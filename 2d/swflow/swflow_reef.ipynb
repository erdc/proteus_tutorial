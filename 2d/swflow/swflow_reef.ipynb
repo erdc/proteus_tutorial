{
 "cells": [
  {
   "cell_type": "markdown",
   "metadata": {},
   "source": [
    "# 2D SWFlow - Solitary wave over triangular shelf with island\n",
    "------------------------------------------------------------------------------------------\n",
    "\n",
    "This notebook uses Proteus to reproduce the 2009-2010 experiments of[Swigler, 2009] and [Lynett, 2019] performed at the O.H. Hinsdale Wave Research Laboratory of Oregon State University. The experiments were conducted\n",
    "to study specific phenomena that are known to occur when solitary waves propagate over irregular bathymetry such as shoaling, refraction, breaking, etc. A video of the experiment can be seen here: [link](https://journals.tdl.org/icce/index.php/icce/article/view/1385/7701)\n",
    "\n",
    "The 2D computational domain is defined as D = [0, 48.8m] x [-13.25, 13.25m]. The topography (interchanged with the bathymetry nomenclature) is defined in Section 7.5.3 of [Guermond et al, 2022]. A solitary wave is initiated at x = 5m and is assumed to be traveling to the right. The solitary wave will propagate towards the shelf and interact with the topography. The boundary conditions are all set to reflecting in this example.\n",
    "\n",
    "This example tests the capabilities of handling dry states in the shallow water models implemented in PROTEUS. For more details, we refer to the user to the specific run file `reef_island_runup.py` or the references listed below.\n",
    "\n",
    "### References\n",
    "\n",
    "- Swigler, D.T., (2009) Investigating the Three-dimensional Turbulence and Kinematic Properties Associated with a     Breaking Solitary Wave. Master’s thesis, Texas A&M University., College Station, Texas. [URL](http://oaktrust.library.tamu.edu/bitstream/handle/1969.1/ETD-TAMU-2009-08-821/SWIGLER-THESIS.pdf?sequence=3)\n",
    "\n",
    "- P. Lynett, D. Swigler, H. El Safty, L. Motoya, A. Keen, S. Son, and P. Higuera. Study of the three-dimensional       hydrodynamics associated with a solitary wave traveling over an alongshore-variable, shallow shelf. Journal of       Waterway, Port, Coastal, and Ocean Engineering (ASCE), 2019. [DOI: 10.1061/(ASCE)WW.1943-5460.0000525](https://ascelibrary.org/doi/abs/10.1061/%28ASCE%29WW.1943-5460.0000525)"
   ]
  },
  {
   "cell_type": "markdown",
   "metadata": {},
   "source": [
    "# Running the benchmark via the terminal\n",
    "\n",
    "The `parun` script can be to execute the python script file: `reef_island_runup.py`. There are several argument that can be supplied to the `parun` script to define various runtime options. All available options are listed when executing `parun -h` in the command line. Common command-line options are as follows:\n",
    "\n",
    "**Option** | **Description**\n",
    ":---: | :---:\n",
    " -v   | Print logging information to standard output\n",
    " -O PETSCOPTIONSFILE  | Text file of options to pass to Petsc library\n",
    " -D DATADIR | Set data directory for output storage\n",
    " -l LOGLEVEL | Store runtime information at the log level, 0 = none, 10 = everything\n",
    " -b BATCHFILENAME | Text file of auxiliary commands to execute along with main program\n",
    " -G gatherArchive | Collect data files into single file at end of simulation (will require more computational resources on large runs)\n",
    " -H hotStart | Use the last step in the archive as the initial condition and continue appending to the archive\n",
    " --SWEs | To consider SWEs applications\n",
    " \n",
    " \n",
    "To run the script on more than one rank, one can invoke the following: `mpiexec -n <number of cores>` before the use of `parun` in the command line. "
   ]
  },
  {
   "cell_type": "markdown",
   "metadata": {},
   "source": [
    "## Context options for run file\n",
    "\n",
    "Most (if not all) Proteus run files `benchmark_name.py` (in this case `reef_island_runup.py`) contain run time options specific to the model at hand. Here are some run time options for this particular example. For exact options, see the run file.\n",
    "\n",
    "**Option** | **Description**\n",
    ":---: | :---:\n",
    " sw_model | sw_model = {0,1} for {SWEs,DSWEs} \n",
    " final_time  | Final time for simulation\n",
    " dt_output | Time interval to output solution\n",
    " mannings | Mannings roughness coefficient\n",
    " \n",
    " \n",
    "To modify the context options at run time, include the `-C` flag followed by `\"option1=True option2=2 ...\"`."
   ]
  },
  {
   "cell_type": "code",
   "execution_count": null,
   "metadata": {},
   "outputs": [],
   "source": [
    "# Clean up previous data directory if it exists\n",
    "!rm swflow_data/reef*"
   ]
  },
  {
   "cell_type": "code",
   "execution_count": null,
   "metadata": {
    "scrolled": true
   },
   "outputs": [],
   "source": [
    "# Then we run \n",
    "!mpiexec -np 2 parun --SWEs reef_island_runup.py -v -l1 -C \"final_time=20. sw_model=1 mannings=1.\" -D run_data"
   ]
  },
  {
   "cell_type": "markdown",
   "metadata": {},
   "source": [
    "## Post-process the solution using ipygany"
   ]
  },
  {
   "cell_type": "code",
   "execution_count": null,
   "metadata": {},
   "outputs": [],
   "source": [
    "# Get dependencies\n",
    "import sys\n",
    "sys.path.append('../../../proteus_visualization')\n",
    "from hdf5_loader import extract_arrays_metadata, extract_array\n",
    "import numpy as np\n",
    "from ipywidgets import Image\n",
    "from ipywidgets import Play, IntSlider, HBox, link\n",
    "from ipygany import Scene, Data, Component, PolyMesh, Water, UnderWater, Data, Component, Threshold\n",
    "from ipydatawidgets import NDArrayWidget"
   ]
  },
  {
   "cell_type": "code",
   "execution_count": null,
   "metadata": {},
   "outputs": [],
   "source": [
    "# Load our data\n",
    "arrays_metadata = extract_arrays_metadata('./run_data/reef_island_runup.h5')\n",
    "\n",
    "mem_vertices = extract_array(arrays_metadata, 'nodesSpatial_Domain0')\n",
    "vertices = np.array(mem_vertices[:, 0:2])\n",
    "\n",
    "indices = extract_array(arrays_metadata, 'elementsSpatial_Domain0')\n",
    "\n",
    "# This never changes, we extract it only once\n",
    "bathymetry = extract_array(arrays_metadata, 'bathymetry0_t0')\n",
    "\n",
    "# Get texture for topography\n",
    "texture = Image.from_file('./cement.jpg')"
   ]
  },
  {
   "cell_type": "code",
   "execution_count": null,
   "metadata": {},
   "outputs": [],
   "source": [
    "# Define simulation parameters\n",
    "warp_value = 5.\n",
    "num_of_steps = 200"
   ]
  },
  {
   "cell_type": "code",
   "execution_count": null,
   "metadata": {},
   "outputs": [],
   "source": [
    "# Caching arrays on the front-end using NDArrayWidgets\n",
    "h_cached = []\n",
    "water_vertices_cached = []\n",
    "for i in range(num_of_steps):\n",
    "    h = extract_array(arrays_metadata, 'h_t{}'.format(i))\n",
    "\n",
    "    z_water = h + bathymetry\n",
    "    water_vertices = np.append(vertices, z_water.reshape((z_water.shape[0], 1)) * warp_value, axis=1).flatten()\n",
    "\n",
    "    h_cached.append(NDArrayWidget(array=h))\n",
    "    water_vertices_cached.append(NDArrayWidget(array=water_vertices))   "
   ]
  },
  {
   "cell_type": "code",
   "execution_count": null,
   "metadata": {},
   "outputs": [],
   "source": [
    "# Set up ipygany for visualizing the solution \n",
    "\n",
    "h_component = Component(name='h', array=h_cached[0])\n",
    "\n",
    "water_mesh = PolyMesh(\n",
    "    vertices=water_vertices_cached[0],\n",
    "    triangle_indices=indices,\n",
    "    data={'h': [h_component]}\n",
    ")\n",
    "\n",
    "actual_water = Threshold(water_mesh, input='h', min=1e-3, max=1000)\n",
    "\n",
    "floor = PolyMesh(\n",
    "    vertices=np.append(vertices, bathymetry.reshape((bathymetry.shape[0], 1)) * warp_value, axis=1),\n",
    "    triangle_indices=indices,\n",
    "    data={'underwater': [h_component]}\n",
    ")\n",
    "\n",
    "water = Water(\n",
    "    actual_water, \n",
    "    under_water_blocks=(UnderWater(floor), ),\n",
    "    caustics_enabled=True\n",
    ")\n",
    "\n",
    "scene = Scene((water, ))\n",
    "\n",
    "def update_step(change):\n",
    "    i = change['new']\n",
    "\n",
    "    h_component.array = h_cached[i]\n",
    "    water_mesh.vertices = water_vertices_cached[i]\n",
    "\n",
    "play = Play(description='Step:', min=0, max=num_of_steps-1, value=0, interval=100)\n",
    "play.observe(update_step, names=['value'])\n",
    "\n",
    "progress = IntSlider(value=0, step=1, min=0, max=num_of_steps-1)\n",
    "link((progress, 'value'), (play, 'value'))\n",
    "\n",
    "display(HBox((play, progress)))\n",
    "\n",
    "# Visualize solution \n",
    "scene"
   ]
  },
  {
   "cell_type": "code",
   "execution_count": null,
   "metadata": {},
   "outputs": [],
   "source": [
    "# Define some visualization parameters\n",
    "#water.caustics_factor = 0.20\n",
    "#water.under_water_blocks[0].texture = texture\n",
    "#scene.background_color='aliceblue'"
   ]
  }
 ],
 "metadata": {
  "kernelspec": {
   "display_name": "Python 3 (ipykernel)",
   "language": "python",
   "name": "python3"
  },
  "language_info": {
   "codemirror_mode": {
    "name": "ipython",
    "version": 3
   },
   "file_extension": ".py",
   "mimetype": "text/x-python",
   "name": "python",
   "nbconvert_exporter": "python",
   "pygments_lexer": "ipython3",
   "version": "3.10.12"
  }
 },
 "nbformat": 4,
 "nbformat_minor": 4
}
