{
 "cells": [
  {
   "cell_type": "markdown",
   "metadata": {},
   "source": [
    "# Oscillation of Floating Caisson (2D) [WIP]\n",
    "\n",
    "## Benchmark Layout\n",
    "\n",
    "This benchmark consists of testing the roll motion (free or under wave loads) of a floating caisson in 2 dimensions. The computational domain is a rectangular tank with default dimensions of 5m x 1.2m, with default floating caisson dimensions are 0.3m x 0.1m. Initially, water in the tank is at rest and the default water level is 0.9m. The walls of the tank have no slip boundary conditions and the top is left open. This case is using Chrono.\n",
    "\n",
    "![floating_caisson.png](floating_caisson.png)\n",
    "\n",
    "## Running\n",
    "\n",
    "The benchmark can be run using the following command:\n",
    "```\n",
    "parun --TwoPhaseFlow floating_body.py -l 2 -v -O petsc_options -D output_folder -C context_options\n",
    "```\n",
    "where:\n",
    "* `petsc_options` must point to the petsc options file\n",
    "* `output_folder` is the name of the folder for the output files\n",
    "* `context_options` are options for running the benchmark (see section below)\n",
    "\n",
    "## Context Options\n",
    "\n",
    "\n",
    "| Options        | Explanation                                                         | Default value |\n",
    "|----------------|---------------------------------------------------------------------|---------------|\n",
    "| water_level    | Height of free surface above bottom                                 | 0.9           |\n",
    "| tank_dim       | Dimensions of the tank                                              | (1., 1.2)     |\n",
    "| tank_sponge    | Length of absorption zones (left, right)                            | (2., 2.)      |\n",
    "| waves          | Boolean to indicate if waves will be generated                      | False         |\n",
    "| caisson_dim    | Dimensions of the floating caisson                                  | (0.3, 0.1)    |\n",
    "| caisson_coords | Coordinates of caisson (default: middle of the tank at water level) | None          |\n",
    "| caisson_width  | Width of the caisson                                                | 0.9           |\n",
    "| free_x         | Translational degrees of freedom                                    | (0., 0., 0.)  |\n",
    "| free_r         | Rotational degrees of freedom                                       | (0., 0., 1.)  |\n",
    "| inertia        | Inertia of the caisson                                              | 0.236         |\n",
    "| rotation_angle | Angle of initial rotation (in degrees)                              | 15.           |"
   ]
  },
  {
   "cell_type": "markdown",
   "metadata": {},
   "source": [
    "## Running the numerical model in the shell\n",
    "\n",
    "The `parun` launcher is used to execute the split-operator module, in this case `floating_body.py`. Various arguments may also be implemented to define various runtime options. All available options are listed when executing `parun -h` in the command line. Common command-line options are as follows:\n",
    "\n",
    "**Option** | **Description**\n",
    ":---: | :---:\n",
    " -v   | Print logging information to standard output\n",
    " -O PETSCOPTIONSFILE  | Text file of options to pass to Petsc library\n",
    " -D DATADIR | Set data directory for output storage\n",
    " -l LOGLEVEL | Store runtime information at the log level, 0 = none, 10 = everything\n",
    " -b BATCHFILENAME | Text file of auxiliary commands to execute along with main program\n",
    " -G gatherArchive | Collect data files into single file at end of simulation (will require more computational resources on large runs)\n",
    " -H hotStart | Use the last step in the archive as the initial condition and continue appending to the archive\n",
    " \n",
    " \n",
    "Additionally, to run the case on more than one core, implement `mpiexec -n <number of cores>` before the use of `parun` on the command line. \n",
    "\n",
    "\n"
   ]
  },
  {
   "cell_type": "code",
   "execution_count": null,
   "metadata": {
    "scrolled": true
   },
   "outputs": [],
   "source": [
    "!parun --TwoPhaseFlow floating_body.py -v -l 1 -C \"he=0.025 dt_output=0.1 final_time=5.5\" -D data"
   ]
  },
  {
   "cell_type": "markdown",
   "metadata": {},
   "source": [
    "## Post-process the numerical solution"
   ]
  },
  {
   "cell_type": "code",
   "execution_count": null,
   "metadata": {},
   "outputs": [],
   "source": [
    "!rm -f png/floating_bodyphi*.png"
   ]
  },
  {
   "cell_type": "code",
   "execution_count": null,
   "metadata": {},
   "outputs": [],
   "source": [
    "import helpers\n",
    "helpers.CreateFig(0.1,'data/floating_body.h5','png/floating_body','floating_body',moving_mesh=True, streamlines=False)"
   ]
  },
  {
   "cell_type": "code",
   "execution_count": null,
   "metadata": {},
   "outputs": [],
   "source": [
    "!rm -f floating_body.mp4; LD_LIBRARY_PATH='' ffmpeg -i png/floating_bodyphi%4d.png -vcodec h264 -vf format=yuv420p floating_body.mp4 -loglevel quiet"
   ]
  },
  {
   "cell_type": "code",
   "execution_count": null,
   "metadata": {},
   "outputs": [],
   "source": [
    "## Display the solution"
   ]
  },
  {
   "cell_type": "code",
   "execution_count": null,
   "metadata": {
    "scrolled": true
   },
   "outputs": [],
   "source": [
    "from ipywidgets import Video\n",
    "video = Video.from_file(\"floating_body.mp4\", loop=False, controls=True, autoplay=True)\n",
    "display(video)"
   ]
  },
  {
   "cell_type": "code",
   "execution_count": null,
   "metadata": {},
   "outputs": [],
   "source": []
  }
 ],
 "metadata": {
  "kernelspec": {
   "display_name": "Python 3 (ipykernel)",
   "language": "python",
   "name": "python3"
  },
  "language_info": {
   "codemirror_mode": {
    "name": "ipython",
    "version": 3
   },
   "file_extension": ".py",
   "mimetype": "text/x-python",
   "name": "python",
   "nbconvert_exporter": "python",
   "pygments_lexer": "ipython3",
   "version": "3.10.12"
  }
 },
 "nbformat": 4,
 "nbformat_minor": 4
}
