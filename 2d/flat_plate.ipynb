{
 "cells": [
  {
   "cell_type": "markdown",
   "metadata": {},
   "source": [
    "Flat plate turbulent flow – Wall function benchmark\n",
    "==============================================\n",
    "\n",
    "Description\n",
    "-----------\n",
    "The problem comprises a 0.40m x 4.00m (height x length) tank with smooth plate both at the bottom and\n",
    " the top of the domain.\n",
    "The water flows through the duct and interacts with the solid wall generating a boundary layer and tu\n",
    "rbulence in the near-wall region. \n",
    "\n",
    "![flatPlateBenchmark.bmp](flatPlateBenchmark.bmp)\n",
    "\n",
    "At the close proximity of the wall, in the viscous sub-layer, viscous contribution to the shear stres\n",
    "s is significant and in general Reynolds stresses are negligible when compared with it.\n",
    "Turbulent effects become gradually more important in the inner region moving away from the solid wall\n",
    ". Velocity field assumes a logarithmic profile and the viscous effects can be considered negligible a\n",
    "t some point (log-law sublayer).\n",
    "\n",
    "In CFD models the near-wall sublayer is almost never resolved, as the first discretisation node from \n",
    "the wall typically falls within the inner region where the flow is governed by the logarihtmic law. T\n",
    "o account for this simlification, CFD models use a class of boundary conditions commonly refered to a\n",
    "s wall functions. These combine dimensional analysis, empirical formulations and input from the model\n",
    " to determin the near wall flow dynamics according tothe logarithmic law.\n",
    "\n",
    "This case serves as a benchmark for the wall function used in PROTEUS.\n",
    "\n",
    "For more details on near wall turbulence, see references below.\n",
    "\n",
    "Running the test case\n",
    "-----\n",
    "\n",
    "To run the test case type:\n",
    "\n",
    "```\n",
    "parun flat_plate.py --TwoPhaseFlow  -v -D result_folder\n",
    "```\n",
    "\n",
    "Dambreak and tank properties can be modified by the commandline, using for example:\n",
    "\n",
    "```\n",
    "parun flat_plate.py --TwoPhaseFlow  -v -D result_folder -C \"nu=0.0001\"\n",
    "```\n",
    "\n",
    "To run in parallel (example with mpirun and 12 processors):\n",
    "\n",
    "```\n",
    "mpirun -np 12 parun flat_plate.py --TwoPhaseFlow  -v -D result_folder -C \"nu=0.0001\"\n",
    "```\n",
    "\n",
    "\n",
    "To see guidance on parun options, you can type  \n",
    "\n",
    "```\n",
    "parun -h\n",
    "```\n",
    "\n",
    "References\n",
    "----------\n",
    "\n",
    "- Pope S.B., Turbulent Flows. Wall flows, 264–298. Reynolds-stress and related models, 442-444.\n",
    "\n",
    "- Schlichting H., Boundary Layer Theory. Turbulent flow through pipes, 596-623.\n",
    "\n"
   ]
  },
  {
   "cell_type": "markdown",
   "metadata": {},
   "source": [
    "## Running the numerical model in the shell\n",
    "\n",
    "The `parun` launcher is used to execute the split-operator module, in this case `flat_plate.py`. Various arguments may also be implemented to define various runtime options. All available options are listed when executing `parun -h` in the command line. Common command-line options are as follows:\n",
    "\n",
    "**Option** | **Description**\n",
    ":---: | :---:\n",
    " -v   | Print logging information to standard output\n",
    " -O PETSCOPTIONSFILE  | Text file of options to pass to Petsc library\n",
    " -D DATADIR | Set data directory for output storage\n",
    " -l LOGLEVEL | Store runtime information at the log level, 0 = none, 10 = everything\n",
    " -b BATCHFILENAME | Text file of auxiliary commands to execute along with main program\n",
    " -G gatherArchive | Collect data files into single file at end of simulation (will require more computational resources on large runs)\n",
    " -H hotStart | Use the last step in the archive as the initial condition and continue appending to the archive\n",
    " \n",
    " \n",
    "Additionally, to run the case on more than one core, implement `mpiexec -n <number of cores>` before the use of `parun` on the command line. \n",
    "\n",
    "\n"
   ]
  },
  {
   "cell_type": "code",
   "execution_count": null,
   "metadata": {
    "scrolled": true
   },
   "outputs": [],
   "source": [
    "!rm data/flat_plate*\n",
    "!mpiexec -np 4 parun --TwoPhaseFlow flat_plate.py -v -l 1 -C \"he=0.05 dt_output=0.1 duration=0.5\" -D data"
   ]
  },
  {
   "cell_type": "markdown",
   "metadata": {},
   "source": [
    "## Post-process the numerical solution"
   ]
  },
  {
   "cell_type": "code",
   "execution_count": null,
   "metadata": {},
   "outputs": [],
   "source": [
    "!rm -f png/flat_platephi*.png"
   ]
  },
  {
   "cell_type": "code",
   "execution_count": null,
   "metadata": {},
   "outputs": [],
   "source": [
    "import helpers\n",
    "helpers.CreateFig(0.1,'data/flat_plate.h5','png/flat_plate','flat_plate',single_phase=True,streamlines=False,turbulence=False)"
   ]
  },
  {
   "cell_type": "code",
   "execution_count": null,
   "metadata": {},
   "outputs": [],
   "source": [
    "!rm -f flat_plate.mp4; LD_LIBRARY_PATH='' ffmpeg -i png/flat_platephi%4d.png -vcodec h264 -vf format=yuv420p flat_plate.mp4 -loglevel quiet"
   ]
  },
  {
   "cell_type": "code",
   "execution_count": null,
   "metadata": {},
   "outputs": [],
   "source": [
    "## Display the solution"
   ]
  },
  {
   "cell_type": "code",
   "execution_count": null,
   "metadata": {
    "scrolled": true
   },
   "outputs": [],
   "source": [
    "from ipywidgets import Video\n",
    "video = Video.from_file(\"flat_plate.mp4\", loop=False, controls=True, autoplay=True)\n",
    "display(video)"
   ]
  }
 ],
 "metadata": {
  "kernelspec": {
   "display_name": "Python 3 (ipykernel)",
   "language": "python",
   "name": "python3"
  },
  "language_info": {
   "codemirror_mode": {
    "name": "ipython",
    "version": 3
   },
   "file_extension": ".py",
   "mimetype": "text/x-python",
   "name": "python",
   "nbconvert_exporter": "python",
   "pygments_lexer": "ipython3",
   "version": "3.10.12"
  }
 },
 "nbformat": 4,
 "nbformat_minor": 4
}
