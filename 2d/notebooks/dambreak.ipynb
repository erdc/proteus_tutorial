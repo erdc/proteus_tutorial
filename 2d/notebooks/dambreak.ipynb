{
 "cells": [
  {
   "cell_type": "markdown",
   "metadata": {},
   "source": [
    "# Dambreak Flow - Colagrossi & Landrini (2003)\n",
    "-------------------------------------------------------------------------\n",
    "\n",
    "This notebook implements PROTEUS to develop a numerical solution to the dambreak problem presented in Zhou et. al (1999) and numerically modeled by Colagrossi and Landrini (2003).  The problem consists of a 0.60m x 1.20m (height x width) column of\n",
    "water, initially at rest, that collapses under the action of gravity and impacts to a wall.  The computational domain is a rectangular box with a height of 1.80m and a width of 3.22m.  The top of the domain is left open to the atmosphere, with the remaining boundaries acting as free slip walls. In the following figure, a sketch of the initial conditions of the dambreak are shown.\n",
    "\n",
    "![dambreakColagrossi.bmp](../dambreakColagrossi.bmp)\n",
    "\n",
    "This case tests the ability of PROTEUS to simulate the free-surface\n",
    "evolution and forces / pressures on structures, according to data that\n",
    "are available in the following references.  For more details, see\n",
    "runfiles or references.\n",
    "\n",
    "### References\n",
    "\n",
    "- Colagrossi, A. & Landrini, M. (2003) Numerical simulation of\n",
    "  interfacial flows by smoothed particle hydrodynamics. Journal of\n",
    "  Computational Physics, 191, 448-475. [DOI: 10.1016/S0021-9991(03)00324-3](https://www.researchgate.net/publication/222543591_Numerical_Simulation_of_Interfacial_Flows_by_Smoothed_Particle_Hydrodynamics)\n",
    "\n",
    "- Martin, J. C. & Moyce, W. J., (1952) Part IV. An Experimental Study\n",
    "  of the Collapse of Liquid Columns on a Rigid Horizontal Plane.\n",
    "  Phil. Trans. R. Soc. Lond. A. 244, (882), 312-324. [DOI: 10.1098/rsta.1952.0006](http://rsta.royalsocietypublishing.org/content/244/882/312)\n",
    "\n",
    "- Zhou, Z. Q., De Kat, J. O. & Buchner, B. (1999) A nonlinear 3-D\n",
    "  approach to simulate green water dynamics on deck. J. Piquet\n",
    "  (Ed.), Proc. 7th Int. Conf. Num. Ship Hydrod., Nantes, 5.11, 15. [PDF](http://www.marin.nl/upload_mm/9/0/e/1803494324_1999999096_Zhou,_de_Kat_%26_Buchner_-_Numerical_Hydrodynamics_1999_-_3D_approach_green_seas.pdf)\n"
   ]
  },
  {
   "cell_type": "markdown",
   "metadata": {},
   "source": [
    "## Running the numerical model in the shell\n",
    "\n",
    "The `parun` launcher is used to execute the split-operator module, in this case `dambreak_Colagrossi_so.py`. Various arguments may also be implemented to define various runtime options. All available options are listed when executing `parun -h` in the command line. Common command-line options are as follows:\n",
    "\n",
    "**Option** | **Description**\n",
    ":---: | :---:\n",
    " -v   | Print logging information to standard output\n",
    " -O PETSCOPTIONSFILE  | Text file of options to pass to Petsc library\n",
    " -D DATADIR | Set data directory for output storage\n",
    " -l LOGLEVEL | Store runtime information at the log level, 0 = none, 10 = everything\n",
    " -b BATCHFILENAME | Text file of auxiliary commands to execute along with main program\n",
    " -G gatherArchive | Collect data files into single file at end of simulation (will require more computational resources on large runs)\n",
    " -H hotStart | Use the last step in the archive as the initial condition and continue appending to the archive\n",
    " \n",
    " \n",
    "Additionally, to run the case on more than one core, implement `mpiexec -n <number of cores>` before the use of `parun` on the command line. \n",
    "\n",
    "\n"
   ]
  },
  {
   "cell_type": "code",
   "execution_count": 6,
   "metadata": {
    "scrolled": true
   },
   "outputs": [
    {
     "name": "stdout",
     "output_type": "stream",
     "text": [
      "Traceback (most recent call last):\n",
      "  File \"/opt/proteus/linux/bin/parun\", line 7, in <module>\n",
      "    exec(compile(f.read(), __file__, 'exec'))\n",
      "  File \"/opt/proteus/scripts/parun\", line 384, in <module>\n",
      "    prob.initializeAll()\n",
      "  File \"/opt/proteus/proteus/TwoPhaseFlow/TwoPhaseFlowProblem.py\", line 146, in initializeAll\n",
      "    self.FESpace.setFESpace()\n",
      "  File \"/opt/proteus/proteus/TwoPhaseFlow/TwoPhaseFlowProblem.py\", line 263, in setFESpace\n",
      "Traceback (most recent call last):\n",
      "    assert self.velSpaceOrder is not None\n",
      "AssertionError\n",
      "  File \"/opt/proteus/linux/bin/parun\", line 7, in <module>\n",
      "    exec(compile(f.read(), __file__, 'exec'))\n",
      "  File \"/opt/proteus/scripts/parun\", line 384, in <module>\n",
      "    prob.initializeAll()\n",
      "  File \"/opt/proteus/proteus/TwoPhaseFlow/TwoPhaseFlowProblem.py\", line 146, in initializeAll\n",
      "    self.FESpace.setFESpace()\n",
      "  File \"/opt/proteus/proteus/TwoPhaseFlow/TwoPhaseFlowProblem.py\", line 263, in setFESpace\n",
      "    assert self.velSpaceOrder is not None\n",
      "AssertionError\n"
     ]
    }
   ],
   "source": [
    "!rm data/dambreak*\n",
    "!PATH=/opt/proteus/linux/bin mpiexec -np 2 parun --TwoPhaseFlow dambreak.py -v -l 1 -C \"he=0.05 dt_output=0.1 final_time=0.5\" -D data"
   ]
  },
  {
   "cell_type": "markdown",
   "metadata": {},
   "source": [
    "## Post-process the numerical solution"
   ]
  },
  {
   "cell_type": "code",
   "execution_count": null,
   "metadata": {},
   "outputs": [],
   "source": [
    "!rm -f png/dambreakphi*.png"
   ]
  },
  {
   "cell_type": "code",
   "execution_count": null,
   "metadata": {},
   "outputs": [],
   "source": [
    "import helpers\n",
    "helpers.CreateFig(0.1,'data/dambreak.h5','png/dambreak','dambreak')"
   ]
  },
  {
   "cell_type": "code",
   "execution_count": null,
   "metadata": {},
   "outputs": [],
   "source": [
    "!rm -f mp4/dambreakColagrossi.mp4; LD_LIBRARY_PATH='' ffmpeg -i png/dambreakphi%4d.png -vcodec h264 -vf format=yuv422p10le mp4/dambreakColagrossi.mp4 -loglevel quiet"
   ]
  },
  {
   "cell_type": "code",
   "execution_count": null,
   "metadata": {},
   "outputs": [],
   "source": [
    "## Display the solution"
   ]
  },
  {
   "cell_type": "code",
   "execution_count": null,
   "metadata": {
    "scrolled": true
   },
   "outputs": [],
   "source": [
    "from ipywidgets import Video\n",
    "video = Video.from_file(\"mp4/dambreakColagrossi.mp4\", loop=False, controls=True, autoplay=True)\n",
    "display(video)"
   ]
  },
  {
   "cell_type": "code",
   "execution_count": null,
   "metadata": {},
   "outputs": [],
   "source": []
  }
 ],
 "metadata": {
  "kernelspec": {
   "display_name": "Python(Proteus Dev)",
   "language": "python",
   "name": "python-proteus-dev"
  },
  "language_info": {
   "codemirror_mode": {
    "name": "ipython",
    "version": 3
   },
   "file_extension": ".py",
   "mimetype": "text/x-python",
   "name": "python",
   "nbconvert_exporter": "python",
   "pygments_lexer": "ipython3",
   "version": "3.9.1"
  }
 },
 "nbformat": 4,
 "nbformat_minor": 4
}
