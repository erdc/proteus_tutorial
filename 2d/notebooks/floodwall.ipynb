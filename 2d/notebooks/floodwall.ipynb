{
 "cells": [
  {
   "cell_type": "markdown",
   "metadata": {},
   "source": [
    "Overtopping over constant slope dike \n",
    "==============================================\n",
    "\n",
    "Description\n",
    "-----------\n",
    "This application has been set up as a demonstration of the ability of proteus to simulate overtopping over a an arbitrary geometry.  \n",
    "\n",
    "\n",
    "![floodwall.png](../floodwall.png)\n",
    "\n",
    "\n",
    "Running the test case\n",
    "-----\n",
    "\n",
    "To run the test case type:\n",
    "\n",
    "```\n",
    "parun floodwall.py --TwoPhaseFlow  -v -D result_folder\n",
    "```\n",
    "\n",
    "Wave properties can be modified by the commandline, using for example:\n",
    "\n",
    "```\n",
    "parun floodwall.py --TwoPhaseFlow -v -D result_folder -C \"mwl=0.3\"\n",
    "```\n",
    "\n",
    "To run in parallel (example with mpirun and 12 processors):\n",
    "\n",
    "```\n",
    "mpirun -np 12 floodwall.py --TwoPhaseFlow -v -D result_folder -C \"mwl=0.3\"\n",
    "```\n",
    "\n",
    "\n",
    "To see guidance on parun options, you can type  \n",
    "\n",
    "```\n",
    "parun -h\n",
    "```\n",
    "\n",
    "\n",
    "\n"
   ]
  },
  {
   "cell_type": "markdown",
   "metadata": {},
   "source": [
    "## Running the numerical model in the shell\n",
    "\n",
    "The `parun` launcher is used to execute the split-operator module, in this case `floodwall.py`. Various arguments may also be implemented to define various runtime options. All available options are listed when executing `parun -h` in the command line. Common command-line options are as follows:\n",
    "\n",
    "**Option** | **Description**\n",
    ":---: | :---:\n",
    " -v   | Print logging information to standard output\n",
    " -O PETSCOPTIONSFILE  | Text file of options to pass to Petsc library\n",
    " -D DATADIR | Set data directory for output storage\n",
    " -l LOGLEVEL | Store runtime information at the log level, 0 = none, 10 = everything\n",
    " -b BATCHFILENAME | Text file of auxiliary commands to execute along with main program\n",
    " -G gatherArchive | Collect data files into single file at end of simulation (will require more computational resources on large runs)\n",
    " -H hotStart | Use the last step in the archive as the initial condition and continue appending to the archive\n",
    " \n",
    " \n",
    "Additionally, to run the case on more than one core, implement `mpiexec -n <number of cores>` before the use of `parun` on the command line. \n",
    "\n",
    "\n"
   ]
  },
  {
   "cell_type": "code",
   "execution_count": null,
   "metadata": {
    "scrolled": true
   },
   "outputs": [],
   "source": [
    "!mpiexec -np 2 parun --TwoPhaseFlow floodwall.py -v -l 1 -C \"he=0.025 dt_output=0.1 final_time=6.0\" -D data"
   ]
  },
  {
   "cell_type": "markdown",
   "metadata": {},
   "source": [
    "## Post-process the numerical solution"
   ]
  },
  {
   "cell_type": "code",
   "execution_count": null,
   "metadata": {},
   "outputs": [],
   "source": [
    "!rm -f png/floodwallphi*.png;"
   ]
  },
  {
   "cell_type": "code",
   "execution_count": null,
   "metadata": {},
   "outputs": [],
   "source": [
    "import helpers\n",
    "helpers.CreateFig(0.1,'data/floodwall.h5','png/floodwall','floodwall')"
   ]
  },
  {
   "cell_type": "code",
   "execution_count": null,
   "metadata": {},
   "outputs": [],
   "source": [
    "!rm -f mp4/floodwall.mp4; LD_LIBRARY_PATH='' ffmpeg -i png/floodwallphi%4d.png -vcodec h264 -vf format=yuv422p10le mp4/floodwall.mp4 -loglevel quiet"
   ]
  },
  {
   "cell_type": "code",
   "execution_count": null,
   "metadata": {},
   "outputs": [],
   "source": [
    "## Display the solution"
   ]
  },
  {
   "cell_type": "code",
   "execution_count": null,
   "metadata": {},
   "outputs": [],
   "source": [
    "from ipywidgets import Video\n",
    "video = Video.from_file(\"mp4/floodwall.mp4\", loop=False, controls=True, autoplay=True)\n",
    "display(video)"
   ]
  },
  {
   "cell_type": "code",
   "execution_count": null,
   "metadata": {},
   "outputs": [],
   "source": []
  }
 ],
 "metadata": {
  "kernelspec": {
   "display_name": "Python 3",
   "language": "python",
   "name": "python3"
  },
  "language_info": {
   "codemirror_mode": {
    "name": "ipython",
    "version": 3
   },
   "file_extension": ".py",
   "mimetype": "text/x-python",
   "name": "python",
   "nbconvert_exporter": "python",
   "pygments_lexer": "ipython3",
   "version": "3.7.4"
  }
 },
 "nbformat": 4,
 "nbformat_minor": 2
}
