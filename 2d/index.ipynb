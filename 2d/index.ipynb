{
 "cells": [
  {
   "cell_type": "markdown",
   "metadata": {},
   "source": [
    "[Up](../index.ipynb)\n",
    "# 2D Examples\n",
    "- [dambreak](notebooks/dambreak.ipynb)\n",
    "- [broad_crested_weir](notebooks/broad_crested_weir.ipynb)\n",
    "- [floodwall](notebooks/floodwall.ipynb)\n",
    "- [flat_plate](notebooks/flat_plate.ipynb)\n",
    "- [floating_body](notebooks/floating_body.ipynb)"
   ]
  },
  {
   "cell_type": "code",
   "execution_count": null,
   "metadata": {},
   "outputs": [],
   "source": []
  }
 ],
 "metadata": {
  "kernelspec": {
   "display_name": "Python 3",
   "language": "python",
   "name": "python3"
  },
  "language_info": {
   "codemirror_mode": {
    "name": "ipython",
    "version": 3
   },
   "file_extension": ".py",
   "mimetype": "text/x-python",
   "name": "python",
   "nbconvert_exporter": "python",
   "pygments_lexer": "ipython3",
   "version": "3.7.4"
  }
 },
 "nbformat": 4,
 "nbformat_minor": 2
}
