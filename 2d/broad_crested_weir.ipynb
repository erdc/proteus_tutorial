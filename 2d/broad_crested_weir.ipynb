{
 "cells": [
  {
   "cell_type": "markdown",
   "metadata": {},
   "source": [
    "Broad crested weir\n",
    "==================\n",
    "\n",
    "Description\n",
    "-----------\n",
    "\n",
    "A broad-crested weir is a standard hydraulic structure used as\n",
    "discharge measuring device and flow control device in open\n",
    "channel. This type of weir can be described as a simple solid\n",
    "rectangular channel obstruction spanned over the whole width of the\n",
    "channel. Due to the sharp edge of the upper left side corner of the\n",
    "weir, flow separation occurs at this location.\n",
    "\n",
    "As the flow propagates mainly in 2 directions, a 2D computational\n",
    "domain was used for the simulation.  The height of the domain is equal\n",
    "to :math:`1.0 m` and the length to :math:`3.5 m`.\n",
    "The weir has a height of :math:`P=0.401 m` and a width of\n",
    ":math:`b=0.5 m`.  A uniform velocity distribution from bottom to\n",
    "free water level is imposed in the left wall boundary condition. The\n",
    "top of the domain is left open and the right wall of the domain allows\n",
    "the flow to leave the domain. A free-slip condition is set at the \n",
    "bottom of the domain. There is an air ventilation on the right side of \n",
    "the weir to maintain atmospheric pressure below the nappe. In the following figure, a simple sketch o\n",
    "f the structure is \n",
    "presented showing the main parameters.\n",
    "\n",
    "![BroadWeir.bmp](BroadWeir.bmp)\n",
    "\n",
    "where, :math:`u_0` is the approach velocity, :math:`H` is the upstream\n",
    "potential head, :math:`hv` is the upstream velocity head, :math:`Ht =\n",
    "H + hv` is the upstream total head, :math:`d` is the flow depth over\n",
    "the weir.\n",
    "\n",
    "This case tests the ability of Proteus to simulate the free-surface\n",
    "evolution and the flow separation. The results of the simulations can\n",
    "be compared with the data in the following references.  For more\n",
    "details, see runfiles or references.\n",
    "\n",
    "\n",
    "Running the test case\n",
    "-----\n",
    "\n",
    "To run the test case type:\n",
    "\n",
    "```\n",
    "parun broad_crested_weir.py --TwoPhaseFlow -v -D result_folder\n",
    "```\n",
    "\n",
    "To run in parallel (example with mpirun and 12 processors):\n",
    "\n",
    "```\n",
    "mpirun -np 12 parun broad_crested_weir.py --TwoPhaseFlow -v -D result_folder -C \"obstacle_dim=(0.5,0.\n",
    "4)\"\n",
    "```\n",
    "\n",
    "\n",
    "To see guidance on parun options, you can type  \n",
    "\n",
    "```\n",
    "parun -h\n",
    "```\n",
    "\n",
    "\n",
    "References\n",
    "----------\n",
    "\n",
    "- Fritz HM and Hager WH (1998) Hydraulics of embankment weirs. Journal\n",
    "  of Hydraulic Engineer 124(9), 963–971.\n",
    "\n",
    "- Hager WH and Schwalt M (1994). Broad-crested weir. Journal of\n",
    "  Irrigation and Drainage 120(1), 13–26."
   ]
  },
  {
   "cell_type": "markdown",
   "metadata": {},
   "source": [
    "## Running the numerical model in the shell\n",
    "\n",
    "The `parun` launcher is used to execute the split-operator module, in this case `broad_crested_weir.py`. Various arguments may also be implemented to define various runtime options. All available options are listed when executing `parun -h` in the command line. Common command-line options are as follows:\n",
    "\n",
    "**Option** | **Description**\n",
    ":---: | :---:\n",
    " -v   | Print logging information to standard output\n",
    " -O PETSCOPTIONSFILE  | Text file of options to pass to Petsc library\n",
    " -D DATADIR | Set data directory for output storage\n",
    " -l LOGLEVEL | Store runtime information at the log level, 0 = none, 10 = everything\n",
    " -b BATCHFILENAME | Text file of auxiliary commands to execute along with main program\n",
    " -G gatherArchive | Collect data files into single file at end of simulation (will require more computational resources on large runs)\n",
    " -H hotStart | Use the last step in the archive as the initial condition and continue appending to the archive\n",
    " \n",
    " \n",
    "Additionally, to run the case on more than one core, implement `mpiexec -n <number of cores>` before the use of `parun` on the command line. \n",
    "\n",
    "\n"
   ]
  },
  {
   "cell_type": "code",
   "execution_count": null,
   "metadata": {
    "scrolled": true
   },
   "outputs": [],
   "source": [
    "!mpiexec -np 4 parun --TwoPhaseFlow broad_crested_weir.py -v -l 1 -C \"he=0.1 dt_output=0.1 final_time=3.0\" -D data"
   ]
  },
  {
   "cell_type": "markdown",
   "metadata": {},
   "source": [
    "## Post-process the numerical solution"
   ]
  },
  {
   "cell_type": "code",
   "execution_count": null,
   "metadata": {},
   "outputs": [],
   "source": [
    "!rm -f png/broad_crested_weirphi*.png"
   ]
  },
  {
   "cell_type": "code",
   "execution_count": null,
   "metadata": {},
   "outputs": [],
   "source": [
    "import helpers\n",
    "import imp\n",
    "imp.reload(helpers)\n",
    "helpers.CreateFig(0.1,'data/broad_crested_weir.h5','broad_crested_weir','broad_crested_weir')"
   ]
  },
  {
   "cell_type": "code",
   "execution_count": null,
   "metadata": {},
   "outputs": [],
   "source": [
    "!rm -f broad_crested_weir.mp4; LD_LIBRARY_PATH='' ffmpeg -i broad_crested_weirphi%4d.png -vcodec h264 -vf format=yuv420p -loglevel quiet broad_crested_weir.mp4 "
   ]
  },
  {
   "cell_type": "markdown",
   "metadata": {},
   "source": [
    "## Display the solution"
   ]
  },
  {
   "cell_type": "code",
   "execution_count": null,
   "metadata": {},
   "outputs": [],
   "source": [
    "from ipywidgets import Video\n",
    "video = Video.from_file(\"broad_crested_weir.mp4\", loop=False, controls=True, autoplay=True)\n",
    "display(video)"
   ]
  },
  {
   "cell_type": "code",
   "execution_count": null,
   "metadata": {},
   "outputs": [],
   "source": []
  }
 ],
 "metadata": {
  "kernelspec": {
   "display_name": "Python 3 (ipykernel)",
   "language": "python",
   "name": "python3"
  },
  "language_info": {
   "codemirror_mode": {
    "name": "ipython",
    "version": 3
   },
   "file_extension": ".py",
   "mimetype": "text/x-python",
   "name": "python",
   "nbconvert_exporter": "python",
   "pygments_lexer": "ipython3",
   "version": "3.10.12"
  }
 },
 "nbformat": 4,
 "nbformat_minor": 4
}
